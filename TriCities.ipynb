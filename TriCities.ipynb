{
 "cells": [
  {
   "cell_type": "markdown",
   "metadata": {},
   "source": [
    "Analyzing TriCities Area OpenStreetMap Data\n",
    "Part 1: Counting Tags"
   ]
  },
  {
   "cell_type": "code",
   "execution_count": null,
   "metadata": {},
   "outputs": [],
   "source": [
    "#!/usr/bin/env python\n",
    "# -*- coding: utf-8 -*-\n",
    "\"\"\"\n",
    "Your task is to use the iterative parsing to process the map file and\n",
    "find out not only what tags are there, but also how many, to get the\n",
    "feeling on how much of which data you can expect to have in the map.\n",
    "Fill out the count_tags function. It should return a dictionary with the \n",
    "tag name as the key and number of times this tag can be encountered in \n",
    "the map as value.\n",
    "\n",
    "Note that your code will be tested with a different data file than the 'example.osm'\n",
    "\"\"\"\n",
    "\n",
    "#Import statements\n",
    "import xml.etree.cElementTree as ET\n",
    "import pprint\n",
    "\n",
    "#Create a dictionary\n",
    "TagTypes = {}\n",
    "\n",
    "#Count the number of each tag and store it in the dictionary\n",
    "def count_tags(filename):\n",
    "    for event, elem in ET.iterparse(filename):\n",
    "        if elem.tag not in TagTypes.keys():\n",
    "            TagTypes[elem.tag] = 1\n",
    "        else:\n",
    "            TagTypes[elem.tag] += 1\n",
    "\n",
    "#This is the main function. We are going to count the tags in wallawalla.osm and print out the results.\n",
    "def test():\n",
    "    tags = count_tags('TriCities.xml')\n",
    "    pprint.pprint(TagTypes)\n",
    "    \n",
    "test()"
   ]
  },
  {
   "cell_type": "markdown",
   "metadata": {},
   "source": [
    "Part Two: Auditing Street Types"
   ]
  },
  {
   "cell_type": "code",
   "execution_count": null,
   "metadata": {},
   "outputs": [],
   "source": [
    "\"\"\"\n",
    "In this bit of code, we are going to be getting a list of the different street types present in the file. We will get\n",
    "a list of the different street types as well as how many of each there are.\n",
    "\"\"\"\n",
    "\n",
    "#Import statements\n",
    "import xml.etree.cElementTree as ET\n",
    "from collections import defaultdict\n",
    "import re\n",
    "import pprint\n",
    "\n",
    "#Here, we set the variable osm_file to open wallawalla.osm\n",
    "osm_file = open(\"wallawalla.osm\",\"r\", encoding=\"utf8\")\n",
    "\n",
    "#Here, we set up our registry expression as well as our street_types dictionary, and our street_types_names dictionary.\n",
    "#The first one will count the number of each street type, and the second one will save the street names in sets in that\n",
    "#dictionary.\n",
    "street_type_re = re.compile(r'\\b\\S+\\.?$',re.IGNORECASE)\n",
    "street_types = {}\n",
    "street_type_names = defaultdict(set)\n",
    "\n",
    "#This function will take a street name and cut off the last chunk in order to get the street type, and then\n",
    "#set it as the key in a dictionary that points to the number of times that street type has occured.\n",
    "def audit_street_type(street_name):\n",
    "    m = street_type_re.search(street_name)\n",
    "    if m:\n",
    "        street_type = m.group()\n",
    "        if street_type not in street_types.keys():\n",
    "            street_types[street_type] = 1\n",
    "        else:\n",
    "            street_types[street_type] += 1\n",
    "\n",
    "#This will sort the dictionary, and then print it\n",
    "def print_sorted_dict(d):\n",
    "    keys = d.keys()\n",
    "    keys = sorted(keys, key=lambda s: s.lower())\n",
    "    for k in keys:\n",
    "        v = d[k]\n",
    "        print(\"%s: %d\" %(k,v))\n",
    "\n",
    "#This function checks to see if an element is a street name\n",
    "def is_street_name(elem):\n",
    "    return (elem.tag == \"tag\") and (elem.attrib['k'] == \"addr:street\")\n",
    "\n",
    "#This function will store the different street names in the correct location in the dictionary based on street types.\n",
    "def store_street_names(street_name):\n",
    "    m = street_type_re.search(street_name)\n",
    "    if m:\n",
    "        street_type = m.group()\n",
    "        if street_type not in street_type_names.keys():\n",
    "            street_type_names[street_type].add(street_name)\n",
    "        else:\n",
    "            street_type_names[street_type].add(street_name)\n",
    "\n",
    "#This is one of our main functions we are going to test. It parses through the osm file and then,\n",
    "#if it runs into a street name, it will audit the street type.\n",
    "def audit(filename):\n",
    "    for event, elem in ET.iterparse(filename):\n",
    "        if is_street_name(elem):\n",
    "            audit_street_type(elem.attrib['v'])\n",
    "\n",
    "#This is our second main function, if we choose to use it. It will store the street names instead of counting them.\n",
    "def audit2(filename):\n",
    "    for event, elem in ET.iterparse(filename):\n",
    "        if is_street_name(elem):\n",
    "            store_street_names(elem.attrib['v'])\n",
    "\n",
    "audit(\"TriCities.xml\")\n",
    "\n",
    "print(street_types)"
   ]
  },
  {
   "cell_type": "markdown",
   "metadata": {},
   "source": [
    "Part Three: Fixing Street Names"
   ]
  },
  {
   "cell_type": "code",
   "execution_count": null,
   "metadata": {},
   "outputs": [],
   "source": [
    "\"\"\"\n",
    "This program is going to suggest better street names for us to use where there are problems.\n",
    "\"\"\"\n",
    "\n",
    "#Import statements\n",
    "import xml.etree.cElementTree as ET\n",
    "from collections import defaultdict\n",
    "import re\n",
    "import pprint\n",
    "\n",
    "#Define the OSM file and street_type_re re\n",
    "OSMFILE = \"TriCities.xml\"\n",
    "street_type_re = re.compile(r'\\b\\S+\\.?$', re.IGNORECASE)\n",
    "street_name_re = re.compile(r'^(.*(?!(\\S*$)))', re.IGNORECASE)\n",
    "\n",
    "#Use the expected array in order to determine street types to exclude from the analysis\n",
    "expected = []\n",
    "\n",
    "#Use the mapping dictionary in order to suggest better names for streets that have incorrect names.\n",
    "mapping = { \"Ave\": \"Avenue\",\n",
    "            \"Pl\": \"Place\",\n",
    "            \"St\": \"Street\",\n",
    "            \"St.\": \"Street\",\n",
    "            \"Steet\": \"Street\",\n",
    "            \"ave\": \"Avenue\",\n",
    "            \"Ct\": \"Court\",\n",
    "            \"Dr\": \"Drive\",\n",
    "            \"Blvd\": \"Boulevard\",\n",
    "            \"ST\": \"Street\",\n",
    "            \"Dri\": \"Drive\"\n",
    "            }\n",
    "\n",
    "#This function will audit the osm file and call the audit_street_type function if the element is a street type.\n",
    "def audit(osmfile):\n",
    "    osm_file = open(osmfile, \"rb\")\n",
    "    street_types = defaultdict(set)\n",
    "    for event, elem in ET.iterparse(osmfile, events=(\"start\",)):\n",
    "        if elem.tag == \"node\" or elem.tag == \"way\":\n",
    "            for tag in elem.iter(\"tag\"):\n",
    "                if is_street_name(tag):\n",
    "                    audit_street_type(street_types, tag.attrib['v'])\n",
    "    osm_file.close()\n",
    "    return street_types\n",
    "\n",
    "#This function will add street names to a dictionary in the correct set according to street type.\n",
    "def audit_street_type(street_types, street_name):\n",
    "    m = street_type_re.search(street_name)\n",
    "    if m:\n",
    "        street_type = m.group()\n",
    "        if street_type not in expected:\n",
    "            street_types[street_type].add(street_name)\n",
    "            \n",
    "#This function checks to see if an element is a street.     \n",
    "def is_street_name(elem):\n",
    "    return (elem.attrib['k'] == \"addr:street\")\n",
    "\n",
    "#This function will update the street name if necessary to the correct one.\n",
    "def update_name(name, mapping):\n",
    "    m = street_type_re.search(name)\n",
    "    o = street_name_re.search(name)\n",
    "    if m:\n",
    "        street_type = m.group()\n",
    "        if street_type in mapping.keys():\n",
    "            name = mapping[street_type]\n",
    "            if o:\n",
    "                firstname = o.group()\n",
    "                \n",
    "    return firstname + \" \" + name\n",
    "\n",
    "#This is our first main function, which is going to create and print out a dictionary of street names\n",
    "#according to street type. It will return the dictionary.\n",
    "def part1():\n",
    "    st_types = audit(OSMFILE)\n",
    "    pprint.pprint(dict(st_types))\n",
    "    return st_types\n",
    "\n",
    "#This is our second main function, which is going to discover the street names that are incorrect and then\n",
    "#suggest new names for them.\n",
    "\n",
    "def part2(street_types):\n",
    "    for street_type, names in street_types.items():\n",
    "            m = street_type_re.search(street_type)\n",
    "            if m:\n",
    "                street_type = m.group()\n",
    "            \n",
    "                if street_type in mapping.keys():\n",
    "                    for name1 in names:\n",
    "                        print (street_type)\n",
    "                        better_name = update_name(name1, mapping)\n",
    "                        print (name1, \"=>\", better_name)\n",
    "\n",
    "streat_types = part1()\n",
    "part2(streat_types)"
   ]
  },
  {
   "cell_type": "markdown",
   "metadata": {},
   "source": [
    "Part Four: Exporting to .json"
   ]
  },
  {
   "cell_type": "code",
   "execution_count": null,
   "metadata": {},
   "outputs": [],
   "source": [
    "import xml.etree.cElementTree as ET\n",
    "import pprint\n",
    "import re\n",
    "import codecs\n",
    "import json\n"
   ]
  },
  {
   "cell_type": "code",
   "execution_count": null,
   "metadata": {},
   "outputs": [],
   "source": [
    "lower = re.compile(r'^([a-z]|_)*$')\n",
    "lower_colon = re.compile(r'^([a-z]|_)*:([a-z]|_)*$')\n",
    "problemchars = re.compile(r'[=\\+/&<>;\\'\"\\?%#$@\\,\\. \\t\\r\\n]')\n",
    "startswithaddr = re.compile(r'\\Aaddr:')\n",
    "afteraddr = re.compile(r':.+$')\n",
    "afteraddr2 = re.compile(r'[a-zA-Z+$]')\n",
    "\n",
    "\n",
    "CREATED = [ \"version\", \"changeset\", \"timestamp\", \"user\", \"uid\"]\n",
    "pos = []\n",
    "\n",
    "mapping = { \"Ave\": \"Avenue\",\n",
    "            \"Pl\": \"Place\",\n",
    "            \"St\": \"Street\",\n",
    "            \"St.\": \"Street\",\n",
    "            \"Steet\": \"Street\",\n",
    "            \"ave\": \"Avenue\",\n",
    "            \"Ct\": \"Court\",\n",
    "            \"Dr\": \"Drive\",\n",
    "            \"Blvd\": \"Boulevard\",\n",
    "            \"ST\": \"Street\",\n",
    "            \"Dri\": \"Drive\"\n",
    "            }\n",
    "\n",
    "#Checks to see if the element is a street name\n",
    "def is_street_name(elem):\n",
    "    return (elem.attrib['k'] == \"addr:street\")\n",
    "\n",
    "#This function will update the street name if necessary to the correct one.\n",
    "def update_name(name, mapping):\n",
    "    m = street_type_re.search(name)\n",
    "    o = street_name_re.search(name)\n",
    "    if m:\n",
    "        street_type = m.group()\n",
    "        if street_type in mapping.keys():\n",
    "            name = mapping[street_type]\n",
    "            if o:\n",
    "                firstname = o.group()\n",
    "                \n",
    "    return firstname + \" \" + name\n",
    "\n",
    "#This processes the file\n",
    "def process_map(file_in, pretty = False):\n",
    "    # You do not need to change this file\n",
    "    file_out = \"{0}.json\".format(file_in)\n",
    "    data = []\n",
    "    with codecs.open(file_out, \"w\") as fo:\n",
    "        for _, element in ET.iterparse(file_in):\n",
    "            el = shape_element(element)\n",
    "            if el:\n",
    "                data.append(el)\n",
    "                if pretty:\n",
    "                    fo.write(json.dumps(el, indent=2)+\"\\n\")\n",
    "                else:\n",
    "                    fo.write(json.dumps(el) + \"\\n\")\n",
    "    return data"
   ]
  },
  {
   "cell_type": "code",
   "execution_count": null,
   "metadata": {},
   "outputs": [],
   "source": [
    "def shape_element(element):\n",
    "    node = {}\n",
    "    \n",
    "    if element.tag == \"node\" or element.tag == \"way\" :\n",
    "        node['type'] = element.tag\n",
    "        if 'lon' in element.attrib:\n",
    "            # treat geo attribs values\n",
    "            node.update({'pos' : [element.attrib['lon'], element.attrib['lat']]})\n",
    "        \n",
    "        for attr in element.attrib:\n",
    "            \n",
    "            if attr in ['lat', 'lon']:\n",
    "                pass # already treated\n",
    "            elif attr in CREATED:\n",
    "                node.setdefault('created', {})[attr] = element.attrib[attr]\n",
    "            else:   \n",
    "                node[attr] = element.attrib[attr]\n",
    "        \n",
    "        for tag in element.iter(\"tag\"):\n",
    "            # treat child tags\n",
    "            m = startswithaddr.search(tag.attrib['k'])\n",
    "            if m:\n",
    "                m = m.group()\n",
    "                o = afteraddr.search(m)\n",
    "                if o:\n",
    "                    o = o.group()\n",
    "                    if is_street_name(tag):\n",
    "                        input1 = update.name(tag.attrib['v'], mapping)\n",
    "                    else: \n",
    "                        input1 = tag.attrib['v']\n",
    "                        node.update({\"Address\" : {o : input1}})\n",
    "                else: node.update({tag.attrib['k'] : tag.attrib['v']})\n",
    "        \n",
    "        for tag in element.iter(\"nd\"):\n",
    "            #treat nd childs\n",
    "            node.update({'node_ref' : [tag.attrib['ref']]})\n",
    "            \n",
    "        # here you can print your element to check if it is ok\n",
    "        return node\n",
    "    else:\n",
    "        return None"
   ]
  },
  {
   "cell_type": "code",
   "execution_count": null,
   "metadata": {},
   "outputs": [],
   "source": [
    "process_map('TriCities.xml')"
   ]
  },
  {
   "cell_type": "code",
   "execution_count": 2,
   "metadata": {},
   "outputs": [],
   "source": [
    "from pymongo import MongoClient\n",
    "import pprint\n",
    "import pymongo\n",
    "import pandas as pd"
   ]
  },
  {
   "cell_type": "code",
   "execution_count": 9,
   "metadata": {},
   "outputs": [
    {
     "data": {
      "text/plain": [
       "<pymongo.results.InsertOneResult at 0x2086b9e1a40>"
      ]
     },
     "execution_count": 9,
     "metadata": {},
     "output_type": "execute_result"
    }
   ],
   "source": [
    "client = MongoClient('localhost:27017')\n",
    "db = client[\"WGUNanodegree\"]\n",
    "street = {'name': \"Street Name\"}\n",
    "streetdata = db[\"StreetData\"]\n",
    "streetdata.insert_one(street)\n"
   ]
  },
  {
   "cell_type": "code",
   "execution_count": 4,
   "metadata": {},
   "outputs": [
    {
     "data": {
      "text/plain": [
       "100520205"
      ]
     },
     "execution_count": 4,
     "metadata": {},
     "output_type": "execute_result"
    }
   ],
   "source": [
    "db.command('collstats', \"StreetData\")['size']"
   ]
  },
  {
   "cell_type": "code",
   "execution_count": 13,
   "metadata": {},
   "outputs": [
    {
     "data": {
      "text/plain": [
       "{'n': 441156, 'ok': 1.0}"
      ]
     },
     "execution_count": 13,
     "metadata": {},
     "output_type": "execute_result"
    }
   ],
   "source": [
    "db.command('count', \"StreetData\", \"\")"
   ]
  },
  {
   "cell_type": "code",
   "execution_count": null,
   "metadata": {},
   "outputs": [],
   "source": []
  },
  {
   "cell_type": "code",
   "execution_count": null,
   "metadata": {},
   "outputs": [],
   "source": []
  }
 ],
 "metadata": {
  "kernelspec": {
   "display_name": "Python 3",
   "language": "python",
   "name": "python3"
  },
  "language_info": {
   "codemirror_mode": {
    "name": "ipython",
    "version": 3
   },
   "file_extension": ".py",
   "mimetype": "text/x-python",
   "name": "python",
   "nbconvert_exporter": "python",
   "pygments_lexer": "ipython3",
   "version": "3.8.5"
  }
 },
 "nbformat": 4,
 "nbformat_minor": 4
}
